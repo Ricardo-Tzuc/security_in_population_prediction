{
 "cells": [
  {
   "cell_type": "markdown",
   "metadata": {},
   "source": [
    "# HELLO"
   ]
  },
  {
   "cell_type": "code",
   "execution_count": 2,
   "metadata": {},
   "outputs": [],
   "source": [
    "#SOURCES\n",
    "dataset = \"https://datos.gob.mx/busca/dataset/indicadores-de-pobreza-pobreza-por-ingresos-rezago-social-y-gini-a-nivel-municipal1990-200-2010\"\n",
    "head_description = \"https://www.coneval.org.mx/Informes/Pobreza/Datos_abiertos/Indicadores_municipales/Indicadores_municipales_sabana_DIC.txt\""
   ]
  },
  {
   "cell_type": "code",
   "execution_count": 1,
   "metadata": {},
   "outputs": [],
   "source": [
    "import pandas as pd"
   ]
  },
  {
   "cell_type": "code",
   "execution_count": 4,
   "metadata": {},
   "outputs": [
    {
     "data": {
      "text/plain": [
       "count    2456.000000\n",
       "mean       78.753363\n",
       "std        15.354490\n",
       "min        24.201883\n",
       "25%        70.657546\n",
       "50%        82.849633\n",
       "75%        90.958454\n",
       "max        99.283028\n",
       "Name: ic_segsoc, dtype: float64"
      ]
     },
     "execution_count": 4,
     "metadata": {},
     "output_type": "execute_result"
    }
   ],
   "source": [
    "# Start by creating a dataframe for the dataset\n",
    "file = 'Indicadores_municipales_sabana_DA.csv'\n",
    "df = pd.read_csv(file, encoding='latin-1')\n",
    "var_Ytarget = df[\"ic_segsoc\"] #target variable\n",
    "var_Ytarget.describe()"
   ]
  },
  {
   "cell_type": "code",
   "execution_count": 5,
   "metadata": {},
   "outputs": [
    {
     "name": "stdout",
     "output_type": "stream",
     "text": [
      "null values => 305\n"
     ]
    }
   ],
   "source": [
    "# See number of empty spaces\n",
    "null_data = df.isna().sum().sum()\n",
    "print(\"null values =>\", null_data)"
   ]
  },
  {
   "cell_type": "code",
   "execution_count": 6,
   "metadata": {},
   "outputs": [
    {
     "name": "stdout",
     "output_type": "stream",
     "text": [
      "null values => 0\n"
     ]
    }
   ],
   "source": [
    "# Cleaning the empty spaces\n",
    "df.bfill(inplace=True) #backwards\n",
    "df.ffill(inplace=True) #forwards\n",
    "null_data = df.isna().sum().sum()\n",
    "print(\"null values =>\", null_data)"
   ]
  }
 ],
 "metadata": {
  "kernelspec": {
   "display_name": "Python 3",
   "language": "python",
   "name": "python3"
  },
  "language_info": {
   "codemirror_mode": {
    "name": "ipython",
    "version": 3
   },
   "file_extension": ".py",
   "mimetype": "text/x-python",
   "name": "python",
   "nbconvert_exporter": "python",
   "pygments_lexer": "ipython3",
   "version": "3.11.3"
  }
 },
 "nbformat": 4,
 "nbformat_minor": 2
}
